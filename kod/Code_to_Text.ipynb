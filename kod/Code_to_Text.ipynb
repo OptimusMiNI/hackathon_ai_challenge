{
 "cells": [
  {
   "cell_type": "code",
   "execution_count": 33,
   "id": "4053206c",
   "metadata": {
    "scrolled": true
   },
   "outputs": [],
   "source": [
    "# from transformers import AutoModelForSeq2SeqLM, AutoTokenizer\n",
    "# import torch\n",
    "\n",
    "\n",
    "# checkpoint = \"Salesforce/codet5p-16b\"\n",
    "# device = \"cuda\" # for GPU usage or \"cpu\" for CPU usage\n",
    "\n",
    "# tokenizer = AutoTokenizer.from_pretrained(checkpoint)\n",
    "# model = AutoModelForSeq2SeqLM.from_pretrained(checkpoint,\n",
    "#                                               torch_dtype=torch.float16,\n",
    "#                                               low_cpu_mem_usage=True,\n",
    "#                                               trust_remote_code=True).to(device)\n",
    "\n",
    "# encoding = tokenizer(\"def print_hello_world():\", return_tensors=\"pt\").to(device)\n",
    "# encoding['decoder_input_ids'] = encoding['input_ids'].clone()\n",
    "# outputs = model.generate(**encoding, max_length=15)\n",
    "# print(tokenizer.decode(outputs[0], skip_special_tokens=True))"
   ]
  },
  {
   "cell_type": "code",
   "execution_count": null,
   "id": "c3bb7f02",
   "metadata": {},
   "outputs": [],
   "source": []
  },
  {
   "cell_type": "code",
   "execution_count": 34,
   "id": "da5b2c1e",
   "metadata": {},
   "outputs": [],
   "source": [
    "# from transformers import AutoTokenizer, T5ForConditionalGeneration\n",
    "# tokenizer = AutoTokenizer.from_pretrained(\"Salesforce/codet5-large\")\n",
    "# model = T5ForConditionalGeneration.from_pretrained(\"Salesforce/codet5-large\")\n",
    "# text = \"Summarize Python: def greet(user): print(f'hello <extra_id_0>!')\"\n",
    "# input_ids = tokenizer(text, return_tensors=\"pt\").input_ids\n",
    "\n",
    "# # simply generate a single sequence\n",
    "# generated_ids = model.generate(input_ids, max_length=15)\n",
    "# print(tokenizer.decode(generated_ids[0], skip_special_tokens=True))"
   ]
  },
  {
   "cell_type": "code",
   "execution_count": null,
   "id": "6ba290f5",
   "metadata": {},
   "outputs": [],
   "source": [
    "#HERE I'AM USING CHATGPT INSTEAD OF CODET5 IN ORIGINAL ARCHITECTURE DUE TO LACK OF COMPUTRE RESOURCES\n",
    "\n",
    "\n",
    "#THE EXAMPLE IS THIS CODE:\n",
    "\n",
    "# from django import forms\n",
    "# from django.forms import modelformset_factory\n",
    "\n",
    "# from apps.corecode.models import AcademicSession, AcademicTerm, Subject\n",
    "\n",
    "# from .models import Result\n",
    "\n",
    "\n",
    "# class CreateResults(forms.Form):\n",
    "#     session = forms.ModelChoiceField(queryset=AcademicSession.objects.all())\n",
    "#     term = forms.ModelChoiceField(queryset=AcademicTerm.objects.all())\n",
    "#     subjects = forms.ModelMultipleChoiceField(\n",
    "#         queryset=Subject.objects.all(), widget=forms.CheckboxSelectMultiple\n",
    "#     )\n",
    "\n",
    "#HERE I'AM WRITING A DOCUMENTATION WITH CONTEXT OF DEPTH 1"
   ]
  },
  {
   "cell_type": "code",
   "execution_count": 12,
   "id": "e0032107",
   "metadata": {},
   "outputs": [],
   "source": [
    "def write_basic_description(message):\n",
    "    completion = client.chat.completions.create(\n",
    "        model=\"gpt-4-1106-preview\",\n",
    "        messages=[\n",
    "            {\"role\": \"system\", \"content\": \"You are a programmer assistant, skilled in explaining complex programming concepts. Act as a documentation expert for software.\"},\n",
    "            {\"role\": \"user\", \"content\": f\"Write description to Python Code in 100 words in max: {message}\"},\n",
    "    ]\n",
    "    )\n",
    "\n",
    "    \n",
    "    return completion.choices[0].message.content"
   ]
  },
  {
   "cell_type": "code",
   "execution_count": 11,
   "id": "dc00068c",
   "metadata": {
    "scrolled": true
   },
   "outputs": [
    {
     "name": "stdout",
     "output_type": "stream",
     "text": [
      "['This Python code defines a class `AcademicSession` which is intended to '\n",
      " 'represent an academic period, such as a semester or a school year, within a '\n",
      " \"database, using Django's ORM (Object-Relational Mapping) system. It is a \"\n",
      " \"subclass of `models.Model`, indicating it's a Django model that will be \"\n",
      " 'mapped to a database table.',\n",
      " '',\n",
      " 'The class has two fields:',\n",
      " '1. `name`: a text field that can contain up to 200 characters and must be '\n",
      " 'unique across all records in the database.',\n",
      " '2. `current`: a Boolean field that indicates whether the session is the '\n",
      " 'current one in use; it defaults to `True`.',\n",
      " '',\n",
      " 'The `Meta` inner class contains metadata for the model; in this case, it '\n",
      " 'specifies that when querying the database for a list of `AcademicSession` '\n",
      " 'objects, they should be ordered by `name` in descending order.',\n",
      " '',\n",
      " \"The `__str__` method returns the session's `name`, which provides a \"\n",
      " 'human-readable representation of any `AcademicSession` instance, which is '\n",
      " 'particularly useful for debugging and in the Django admin interface.']\n"
     ]
    }
   ],
   "source": [
    "message = 'class AcademicSession(models.Model):\\n    \"\"\"Academic Session\"\"\"\\n\\n    name = models.CharField(max_length=200, unique=True)\\n    current = models.BooleanField(default=True)\\n\\n    class Meta:\\n        ordering = [\"-name\"]\\n\\n    def __str__(self):\\n        return self.name\\n\\n'\n",
    "\n",
    "\n",
    "summarized_AcademicSession = write_basic_description(message)\n",
    "\n",
    "pprint(summarized_AcademicSession.split('\\n'))"
   ]
  },
  {
   "cell_type": "code",
   "execution_count": 35,
   "id": "ed374f3a",
   "metadata": {},
   "outputs": [],
   "source": [
    "DB_Descriptions = {}\n",
    "\n",
    "message = 'class AcademicSession(models.Model):\\n    \"\"\"Academic Session\"\"\"\\n\\n    name = models.CharField(max_length=200, unique=True)\\n    current = models.BooleanField(default=True)\\n\\n    class Meta:\\n        ordering = [\"-name\"]\\n\\n    def __str__(self):\\n        return self.name\\n\\n'\n",
    "summarized_AcademicSession = write_basic_description(message)\n",
    "DB_Descriptions['class_AcademicSession'] = summarized_AcademicSession\n",
    "\n",
    "message = 'class AcademicTerm(models.Model):\\n    \"\"\"Academic Term\"\"\"\\n\\n    name = models.CharField(max_length=20, unique=True)\\n    current = models.BooleanField(default=True)\\n\\n    class Meta:\\n        ordering = [\"name\"]\\n\\n    def __str__(self):\\n        return self.name\\n'\n",
    "summarized_AcademicTerm = write_basic_description(message)\n",
    "DB_Descriptions['class_AcademicTerm'] = summarized_AcademicTerm\n",
    "\n",
    "\n",
    "message = 'class Subject(models.Model):\\n    \"\"\"Subject\"\"\"\\n\\n    name = models.CharField(max_length=200, unique=True)\\n\\n    class Meta:\\n        ordering = [\"name\"]\\n\\n    def __str__(self):\\n        return self.name\\n'\n",
    "summarized_Subject = write_basic_description(message)\n",
    "DB_Descriptions['class_Subject'] = summarized_Subject\n",
    "\n",
    "\n",
    "message = 'class Result(models.Model):\\n    student = models.ForeignKey(Student, on_delete=models.CASCADE)\\n    session = models.ForeignKey(AcademicSession, on_delete=models.CASCADE)\\n    term = models.ForeignKey(AcademicTerm, on_delete=models.CASCADE)\\n    current_class = models.ForeignKey(StudentClass, on_delete=models.CASCADE)\\n    subject = models.ForeignKey(Subject, on_delete=models.CASCADE)\\n    test_score = models.IntegerField(default=0)\\n    exam_score = models.IntegerField(default=0)\\n'\n",
    "summarized_Result = write_basic_description(message)\n",
    "DB_Descriptions['class_Result'] = summarized_Result"
   ]
  },
  {
   "cell_type": "code",
   "execution_count": 28,
   "id": "05889b10",
   "metadata": {},
   "outputs": [],
   "source": [
    "def write_description_with_context(context: list, message):\n",
    "    call = ''\n",
    "    for description in context:\n",
    "        call = call +  f'#{summarized_AcademicSession}' + \"\\n\"\n",
    "\n",
    "    call = repr(call)\n",
    "    call += f'#{message}'\n",
    "    completion = client.chat.completions.create(\n",
    "        model=\"gpt-4-1106-preview\",\n",
    "        messages=[\n",
    "            {\"role\": \"system\", \"content\": \"You are a programmer assistant, skilled in explaining complex programming concepts. Act as a documentation expert for software.\"},\n",
    "            {\"role\": \"user\", \"content\": f\"Write description to Python Code in 200 words in max: {message}\"},\n",
    "    ]\n",
    "    )\n",
    "\n",
    "    \n",
    "    return completion.choices[0].message.content"
   ]
  },
  {
   "cell_type": "code",
   "execution_count": 29,
   "id": "441fee7f",
   "metadata": {},
   "outputs": [],
   "source": [
    "message = 'class CreateResults(forms.Form):\\n    session = forms.ModelChoiceField(queryset=AcademicSession.objects.all())\\n    term = forms.ModelChoiceField(queryset=AcademicTerm.objects.all())\\n    subjects = forms.ModelMultipleChoiceField(\\n        queryset=Subject.objects.all(), widget=forms.CheckboxSelectMultiple\\n    )'\n",
    "descreption_of_higher_class = write_description_with_context(DB_Descriptions.values(), message)\n",
    "\n",
    "DB_Descriptions['class_CreateResult'] = descreption_of_higher_class"
   ]
  },
  {
   "cell_type": "code",
   "execution_count": 42,
   "id": "3b8ad05b",
   "metadata": {},
   "outputs": [],
   "source": [
    "import pandas as pd\n",
    "import json "
   ]
  },
  {
   "cell_type": "code",
   "execution_count": 43,
   "id": "75ae4068",
   "metadata": {},
   "outputs": [],
   "source": [
    "# Convert and write JSON Data to file\n",
    "with open(\"demo.json\", \"w\") as outfile: \n",
    "    json.dump(DB_Descriptions, outfile)"
   ]
  },
  {
   "cell_type": "code",
   "execution_count": null,
   "id": "61f1f03c",
   "metadata": {},
   "outputs": [],
   "source": []
  }
 ],
 "metadata": {
  "kernelspec": {
   "display_name": "Python 3 (ipykernel)",
   "language": "python",
   "name": "python3"
  },
  "language_info": {
   "codemirror_mode": {
    "name": "ipython",
    "version": 3
   },
   "file_extension": ".py",
   "mimetype": "text/x-python",
   "name": "python",
   "nbconvert_exporter": "python",
   "pygments_lexer": "ipython3",
   "version": "3.9.18"
  }
 },
 "nbformat": 4,
 "nbformat_minor": 5
}
